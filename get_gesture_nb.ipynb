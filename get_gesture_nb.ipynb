{
 "cells": [
  {
   "cell_type": "code",
   "execution_count": 1,
   "metadata": {},
   "outputs": [],
   "source": [
    "import csv\n",
    "import copy\n",
    "import itertools\n",
    "import cv2 as cv\n",
    "import mediapipe as mp\n",
    "from model import KeyPointClassifier"
   ]
  },
  {
   "cell_type": "code",
   "execution_count": 2,
   "metadata": {},
   "outputs": [],
   "source": [
    "def calc_landmark_list(image, landmarks):\n",
    "    image_width, image_height = image.shape[1], image.shape[0]\n",
    "\n",
    "    landmark_point = []\n",
    "\n",
    "    # Keypoint\n",
    "    for _, landmark in enumerate(landmarks.landmark):\n",
    "        landmark_x = min(int(landmark.x * image_width), image_width - 1)\n",
    "        landmark_y = min(int(landmark.y * image_height), image_height - 1)\n",
    "        # landmark_z = landmark.z\n",
    "\n",
    "        landmark_point.append([landmark_x, landmark_y])\n",
    "\n",
    "    return landmark_point"
   ]
  },
  {
   "cell_type": "code",
   "execution_count": 3,
   "metadata": {},
   "outputs": [],
   "source": [
    "def pre_process_landmark(landmark_list):\n",
    "    temp_landmark_list = copy.deepcopy(landmark_list)\n",
    "\n",
    "    # Convert to relative coordinates\n",
    "    base_x, base_y = 0, 0\n",
    "    for index, landmark_point in enumerate(temp_landmark_list):\n",
    "        if index == 0:\n",
    "            base_x, base_y = landmark_point[0], landmark_point[1]\n",
    "\n",
    "        temp_landmark_list[index][0] = temp_landmark_list[index][0] - base_x\n",
    "        temp_landmark_list[index][1] = temp_landmark_list[index][1] - base_y\n",
    "\n",
    "    # Convert to a one-dimensional list\n",
    "    temp_landmark_list = list(\n",
    "        itertools.chain.from_iterable(temp_landmark_list))\n",
    "\n",
    "    # Normalization\n",
    "    max_value = max(list(map(abs, temp_landmark_list)))\n",
    "\n",
    "    def normalize_(n):\n",
    "        return n / max_value\n",
    "\n",
    "    temp_landmark_list = list(map(normalize_, temp_landmark_list))\n",
    "\n",
    "    return temp_landmark_list\n"
   ]
  },
  {
   "cell_type": "code",
   "execution_count": 4,
   "metadata": {},
   "outputs": [],
   "source": [
    "# Argument parsing #################################################################\n",
    "cap_device = 0\n",
    "cap_width = 960\n",
    "cap_height = 540\n",
    "use_static_image_mode = True\n",
    "min_detection_confidence = 0.7\n",
    "min_tracking_confidence = 0.5\n",
    "use_brect = True\n"
   ]
  },
  {
   "cell_type": "code",
   "execution_count": 5,
   "metadata": {},
   "outputs": [],
   "source": [
    "# Camera preparation ###############################################################\n",
    "cap = cv.VideoCapture(cap_device)\n",
    "# cap.set(cv.CAP_PROP_FRAME_WIDTH, cap_width)\n",
    "# cap.set(cv.CAP_PROP_FRAME_HEIGHT, cap_height)\n"
   ]
  },
  {
   "cell_type": "code",
   "execution_count": 6,
   "metadata": {},
   "outputs": [],
   "source": [
    "# Model load #############################################################\n",
    "mp_hands = mp.solutions.hands\n",
    "hands = mp_hands.Hands(\n",
    "    static_image_mode=use_static_image_mode,\n",
    "    max_num_hands=1,\n",
    "    min_detection_confidence=min_detection_confidence,\n",
    "    min_tracking_confidence=min_tracking_confidence,\n",
    ")\n",
    "\n",
    "keypoint_classifier = KeyPointClassifier()\n"
   ]
  },
  {
   "cell_type": "code",
   "execution_count": 7,
   "metadata": {},
   "outputs": [
    {
     "data": {
      "text/plain": [
       "['Back', 'Advance', 'Right', 'Left', 'Up', 'Down']"
      ]
     },
     "execution_count": 7,
     "metadata": {},
     "output_type": "execute_result"
    }
   ],
   "source": [
    "# Read labels ###########################################################\n",
    "with open('model/keypoint_classifier/keypoint_classifier_label.csv',\n",
    "            encoding='utf-8-sig') as f:\n",
    "    keypoint_classifier_labels = csv.reader(f)\n",
    "    keypoint_classifier_labels = [\n",
    "        row[0] for row in keypoint_classifier_labels\n",
    "    ]\n",
    "\n",
    "keypoint_classifier_labels"
   ]
  },
  {
   "cell_type": "code",
   "execution_count": 8,
   "metadata": {},
   "outputs": [
    {
     "name": "stdout",
     "output_type": "stream",
     "text": [
      "Back\n"
     ]
    }
   ],
   "source": [
    "iteration = 0 \n",
    "output_list = []\n",
    "while iteration < 20:\n",
    "    iteration = iteration + 1\n",
    "    '''\n",
    "    # Process Key (ESC: end) #################################################\n",
    "    key = cv.waitKey(10)\n",
    "    if key == 27:  # ESC\n",
    "        break\n",
    "    '''\n",
    "    # Camera capture #####################################################\n",
    "    ret, image = cap.read()\n",
    "    if not ret:\n",
    "        break\n",
    "    image = cv.flip(image, 1)  # Mirror display\n",
    "    debug_image = copy.deepcopy(image)\n",
    "\n",
    "    # Detection implementation #############################################################\n",
    "    image = cv.cvtColor(image, cv.COLOR_BGR2RGB)\n",
    "\n",
    "    image.flags.writeable = False\n",
    "    results = hands.process(image)\n",
    "    image.flags.writeable = True\n",
    "\n",
    "    #  ####################################################################\n",
    "    if results.multi_hand_landmarks is not None:\n",
    "        for hand_landmarks, handedness in zip(results.multi_hand_landmarks,\n",
    "                                                results.multi_handedness):\n",
    "            # Landmark calculation\n",
    "            landmark_list = calc_landmark_list(debug_image, hand_landmarks)\n",
    "\n",
    "            # Conversion to relative coordinates / normalized coordinates\n",
    "            pre_processed_landmark_list = pre_process_landmark(\n",
    "                landmark_list)\n",
    "            \n",
    "            # Hand sign classification\n",
    "            hand_sign_id = keypoint_classifier(pre_processed_landmark_list)\n",
    "            output_list.append(keypoint_classifier_labels[hand_sign_id])\n",
    "    else:\n",
    "        output_list.append('None')\n",
    "\n",
    "\n",
    "output_list\n",
    "from statistics import mode\n",
    "print(mode(output_list))"
   ]
  },
  {
   "cell_type": "code",
   "execution_count": null,
   "metadata": {},
   "outputs": [],
   "source": []
  },
  {
   "cell_type": "code",
   "execution_count": 9,
   "metadata": {},
   "outputs": [],
   "source": [
    "cap.release()"
   ]
  },
  {
   "cell_type": "code",
   "execution_count": null,
   "metadata": {},
   "outputs": [],
   "source": []
  }
 ],
 "metadata": {
  "kernelspec": {
   "display_name": "tf_2.4",
   "language": "python",
   "name": "python3"
  },
  "language_info": {
   "codemirror_mode": {
    "name": "ipython",
    "version": 3
   },
   "file_extension": ".py",
   "mimetype": "text/x-python",
   "name": "python",
   "nbconvert_exporter": "python",
   "pygments_lexer": "ipython3",
   "version": "3.8.0"
  },
  "orig_nbformat": 4
 },
 "nbformat": 4,
 "nbformat_minor": 2
}
